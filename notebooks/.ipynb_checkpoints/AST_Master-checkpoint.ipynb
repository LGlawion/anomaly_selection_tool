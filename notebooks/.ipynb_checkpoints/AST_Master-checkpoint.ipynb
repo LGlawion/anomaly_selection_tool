{
 "cells": [
  {
   "cell_type": "code",
   "execution_count": 1,
   "metadata": {},
   "outputs": [],
   "source": [
    "import numpy as np\n",
    "import matplotlib.pyplot as plt\n",
    "import xarray as xr\n",
    "import matplotlib.widgets as mwidgets \n",
    "from netCDF4 import Dataset\n",
    "\n",
    "from ast_io import load_data\n",
    "from ast_io import ast_tool\n",
    "from ast_io import shuffle_data\n"
   ]
  },
  {
   "cell_type": "markdown",
   "metadata": {},
   "source": [
    "### Load time series data to flag and define output file"
   ]
  },
  {
   "cell_type": "code",
   "execution_count": 2,
   "metadata": {},
   "outputs": [],
   "source": [
    "in_file = '../data/ast_example_cml_raw.nc'\n",
    "out_file = '../data/ast_example_cml_ast.nc'\n",
    "rado_file = '../data/ast_example_cml_radar.nc'\n",
    "\n",
    "ast, ds, rado = load_data(in_file, out_file, rado_file)\n",
    "\n",
    "cml_id_shuf, ast_proc_shuf = shuffle_data(ast)"
   ]
  },
  {
   "cell_type": "markdown",
   "metadata": {},
   "source": [
    "### Start flagging with time series selection tool:"
   ]
  },
  {
   "cell_type": "code",
   "execution_count": null,
   "metadata": {},
   "outputs": [],
   "source": [
    "%matplotlib widget\n",
    "ast_tool(ds, ast,rado, cml_id_shuf, ast_proc_shuf)"
   ]
  },
  {
   "cell_type": "code",
   "execution_count": 170,
   "metadata": {},
   "outputs": [],
   "source": [
    "ast.close()"
   ]
  },
  {
   "cell_type": "markdown",
   "metadata": {},
   "source": [
    "### Statistical overview of flagged data:"
   ]
  },
  {
   "cell_type": "code",
   "execution_count": 3,
   "metadata": {},
   "outputs": [
    {
     "name": "stdout",
     "output_type": "stream",
     "text": [
      "Number of processed CMLs:  0\n"
     ]
    }
   ],
   "source": [
    "ds_ast_check = xr.open_dataset(out_file).sel(channel_id = 'channel_1').load()\n",
    "proc_cmls = ds_ast_check.cml_id.values[~np.isnan(ds_ast_check.ast_processed).values]\n",
    "ds_ast_check = ds_ast_check.sel(cml_id = proc_cmls)\n",
    "print('Number of processed CMLs: ', len(proc_cmls))\n",
    "if len(proc_cmls)>0:\n",
    "    print('percentage of OK: ', np.round(np.sum(ds_ast_check.OK.values)/len(ds_ast_check.OK.values.flatten())*100, decimals=2))\n",
    "    print('percentage of periodical_mode: ', np.round(np.sum(ds_ast_check.periodical_mode.values)/len(ds_ast_check.periodical_mode.values.flatten())*100, decimals=2))\n",
    "    print('percentage of flux_above_base: ', np.round(np.sum(ds_ast_check.flux_above_base.values)/len(ds_ast_check.flux_above_base.values.flatten())*100, decimals=2))\n",
    "    print('percentage of flux_below_base: ', np.round(np.sum(ds_ast_check.flux_below_base.values)/len(ds_ast_check.flux_below_base.values.flatten())*100, decimals=2))\n",
    "    print('percentage of step: ', np.round(np.sum(ds_ast_check.step.values)/len(ds_ast_check.step.values.flatten())*100, decimals=2))\n",
    "ds_ast_check.close()"
   ]
  },
  {
   "cell_type": "code",
   "execution_count": null,
   "metadata": {},
   "outputs": [],
   "source": []
  },
  {
   "cell_type": "raw",
   "metadata": {},
   "source": [
    "# generate a clean ast file to start over\n",
    "ds = xr.open_dataset('../data/ast_example_cml_ast_ready.nc')\n",
    "ds['ast_processed'] = 'cml_id', np.full_like(ds.ast_processed.values, np.nan)\n",
    "ds['periodical_mode'] = ('channel_id', 'cml_id', 'time'), np.full_like(ds.periodical_mode.values, np.nan)\n",
    "ds['flux_above_base'] = ('channel_id', 'cml_id', 'time'), np.full_like(ds.flux_above_base.values, np.nan)\n",
    "ds['flux_below_base'] = ('channel_id', 'cml_id', 'time'), np.full_like(ds.flux_below_base.values, np.nan)\n",
    "ds['step'] = ('channel_id', 'cml_id', 'time'), np.full_like(ds.step.values, np.nan)\n",
    "ds['OK'] = ('channel_id', 'cml_id', 'time'), np.full_like(ds.OK.values, np.nan)\n",
    "ds.to_netcdf('../data/ast_example_cml_ast.nc')"
   ]
  },
  {
   "cell_type": "code",
   "execution_count": null,
   "metadata": {},
   "outputs": [],
   "source": []
  }
 ],
 "metadata": {
  "kernelspec": {
   "display_name": "Python 3",
   "language": "python",
   "name": "python3"
  },
  "language_info": {
   "codemirror_mode": {
    "name": "ipython",
    "version": 3
   },
   "file_extension": ".py",
   "mimetype": "text/x-python",
   "name": "python",
   "nbconvert_exporter": "python",
   "pygments_lexer": "ipython3",
   "version": "3.7.6"
  }
 },
 "nbformat": 4,
 "nbformat_minor": 4
}
