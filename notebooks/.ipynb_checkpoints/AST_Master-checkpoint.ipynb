{
 "cells": [
  {
   "cell_type": "code",
   "execution_count": 1,
   "metadata": {},
   "outputs": [],
   "source": [
    "import numpy as np\n",
    "import matplotlib.pyplot as plt\n",
    "import xarray as xr\n",
    "import pandas as pd\n",
    "import matplotlib.widgets as mwidgets \n",
    "from netCDF4 import Dataset\n",
    "import random\n",
    "\n",
    "from ast_io import load_data\n",
    "from ast_io import ast_tool"
   ]
  },
  {
   "cell_type": "markdown",
   "metadata": {},
   "source": [
    "1. select an existing cml netcdf file to start with. (e.g. '/pd/data/CML/data/processed/proc_graf_hess_2019.002/timeseries/cnn_detection_standard_gapfill/proc_cnn082_gapstandard_2018_05.nc')\n",
    "2. check if this file was already copied for AST processing\n",
    "3. If no, open the file with xarray and add the ast_processed and anomaly variables and save to netcdf by appending '_ast_2021.001' to the file name\n",
    "\n",
    "\n",
    "4. If yes or 3. has been performed, open the netcdf using netCDF4 and extract the cml_id and the ast_processed variables.\n",
    "5. Create a cml_list containing the cml ids in a random order\n",
    "6. Pick the first cml id from the list\n",
    "7. Check if ast_processed is True\n",
    "8. If yes, skip the cml\n",
    "9. If no, load this cmls txrx series using netCDF4\n",
    "10. Use the AST to create numpy arrays of the same shape as txrx containing True or False for flags\n",
    "11. Overwrite the anomaly variables for this cml in the netcdf\n",
    "12. Pick the next cml from the list and return to 7."
   ]
  },
  {
   "cell_type": "code",
   "execution_count": 2,
   "metadata": {},
   "outputs": [],
   "source": [
    "in_file = '../data/ast_example_cml_raw.nc'\n",
    "out_file = '../data/ast_example_cml_ast.nc'\n",
    "rado_file = '../data/ast_example_cml_radar.nc'"
   ]
  },
  {
   "cell_type": "code",
   "execution_count": 3,
   "metadata": {},
   "outputs": [
    {
     "name": "stdout",
     "output_type": "stream",
     "text": [
      "Number of processed CMLs:  0\n"
     ]
    }
   ],
   "source": [
    "ds_ast_check = xr.open_dataset(out_file).sel(channel_id = 'channel_1').load()\n",
    "proc_cmls = ds_ast_check.cml_id.values[~np.isnan(ds_ast_check.ast_processed).values]\n",
    "ds_ast_check = ds_ast_check.sel(cml_id = proc_cmls)\n",
    "print('Number of processed CMLs: ', len(proc_cmls))\n",
    "if len(proc_cmls)>0:\n",
    "    print('percentage of OK: ', np.round(np.sum(ds_ast_check.OK.values)/len(ds_ast_check.OK.values.flatten())*100, decimals=2))\n",
    "    print('percentage of periodical_mode: ', np.round(np.sum(ds_ast_check.periodical_mode.values)/len(ds_ast_check.periodical_mode.values.flatten())*100, decimals=2))\n",
    "    print('percentage of flux_above_base: ', np.round(np.sum(ds_ast_check.flux_above_base.values)/len(ds_ast_check.flux_above_base.values.flatten())*100, decimals=2))\n",
    "    print('percentage of flux_below_base: ', np.round(np.sum(ds_ast_check.flux_below_base.values)/len(ds_ast_check.flux_below_base.values.flatten())*100, decimals=2))\n",
    "    print('percentage of step: ', np.round(np.sum(ds_ast_check.step.values)/len(ds_ast_check.step.values.flatten())*100, decimals=2))\n",
    "ds_ast_check.close()"
   ]
  },
  {
   "cell_type": "code",
   "execution_count": 4,
   "metadata": {},
   "outputs": [],
   "source": [
    "ast, ds, rado = load_data(in_file, out_file, rado_file)"
   ]
  },
  {
   "cell_type": "code",
   "execution_count": 5,
   "metadata": {},
   "outputs": [],
   "source": [
    "def shuffle_data(data):\n",
    "\n",
    "    ast_proc = np.array(data.variables['ast_processed'])\n",
    "    ast_cml_id = np.array(data.variables['cml_id'])\n",
    "\n",
    "    c = list(zip(ast_proc, ast_cml_id))\n",
    "\n",
    "    random.shuffle(c)\n",
    "\n",
    "    a, b = zip(*c)\n",
    "\n",
    "    return np.array(b),  np.array(a)"
   ]
  },
  {
   "cell_type": "code",
   "execution_count": 6,
   "metadata": {},
   "outputs": [],
   "source": [
    "cml_id_shuf, ast_proc_shuf = shuffle_data(ast)"
   ]
  },
  {
   "cell_type": "markdown",
   "metadata": {},
   "source": [
    "Time Series Selection Tool:"
   ]
  },
  {
   "cell_type": "code",
   "execution_count": null,
   "metadata": {},
   "outputs": [],
   "source": [
    "%matplotlib widget\n",
    "ast_tool(ds, ast,rado, cml_id_shuf, ast_proc_shuf)"
   ]
  },
  {
   "cell_type": "code",
   "execution_count": null,
   "metadata": {},
   "outputs": [],
   "source": []
  },
  {
   "cell_type": "code",
   "execution_count": 170,
   "metadata": {},
   "outputs": [],
   "source": [
    "ast.close()"
   ]
  },
  {
   "cell_type": "code",
   "execution_count": null,
   "metadata": {},
   "outputs": [],
   "source": []
  },
  {
   "cell_type": "code",
   "execution_count": null,
   "metadata": {},
   "outputs": [],
   "source": []
  },
  {
   "cell_type": "code",
   "execution_count": null,
   "metadata": {},
   "outputs": [],
   "source": []
  },
  {
   "cell_type": "raw",
   "metadata": {},
   "source": [
    "# generate a clean ast file to start over\n",
    "ds = xr.open_dataset('../data/ast_example_cml_ast_ready.nc')\n",
    "ds['ast_processed'] = 'cml_id', np.full_like(ds.ast_processed.values, np.nan)\n",
    "ds['periodical_mode'] = ('channel_id', 'cml_id', 'time'), np.full_like(ds.periodical_mode.values, np.nan)\n",
    "ds['flux_above_base'] = ('channel_id', 'cml_id', 'time'), np.full_like(ds.flux_above_base.values, np.nan)\n",
    "ds['flux_below_base'] = ('channel_id', 'cml_id', 'time'), np.full_like(ds.flux_below_base.values, np.nan)\n",
    "ds['step'] = ('channel_id', 'cml_id', 'time'), np.full_like(ds.step.values, np.nan)\n",
    "ds['OK'] = ('channel_id', 'cml_id', 'time'), np.full_like(ds.OK.values, np.nan)\n",
    "ds.to_netcdf('../data/ast_example_cml_ast.nc')"
   ]
  },
  {
   "cell_type": "code",
   "execution_count": null,
   "metadata": {},
   "outputs": [],
   "source": []
  }
 ],
 "metadata": {
  "kernelspec": {
   "display_name": "Python 3",
   "language": "python",
   "name": "python3"
  },
  "language_info": {
   "codemirror_mode": {
    "name": "ipython",
    "version": 3
   },
   "file_extension": ".py",
   "mimetype": "text/x-python",
   "name": "python",
   "nbconvert_exporter": "python",
   "pygments_lexer": "ipython3",
   "version": "3.7.6"
  }
 },
 "nbformat": 4,
 "nbformat_minor": 4
}
