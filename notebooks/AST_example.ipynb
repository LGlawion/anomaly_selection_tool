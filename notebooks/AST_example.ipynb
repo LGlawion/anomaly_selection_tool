{
 "cells": [
  {
   "cell_type": "code",
   "execution_count": 1,
   "metadata": {},
   "outputs": [],
   "source": [
    "import numpy as np\n",
    "import matplotlib.pyplot as plt\n",
    "import xarray as xr\n",
    "import pandas as pd\n",
    "from netCDF4 import Dataset\n",
    "import random\n",
    "\n",
    "from ast_io import load_data\n",
    "from ast_io import ast_tool\n",
    "from ast_io import shuffle_data\n"
   ]
  },
  {
   "cell_type": "markdown",
   "metadata": {},
   "source": [
    "1. select an existing cml netcdf file to start with. (e.g. '/pd/data/CML/data/processed/proc_graf_hess_2019.002/timeseries/cnn_detection_standard_gapfill/proc_cnn082_gapstandard_2018_05.nc')\n",
    "2. check if this file was already copied for AST processing\n",
    "3. If no, open the file with xarray and add the ast_processed and anomaly variables and save to netcdf by appending '_ast_2021.001' to the file name\n",
    "\n",
    "\n",
    "4. If yes or 3. has been performed, open the netcdf using netCDF4 and extract the cml_id and the ast_processed variables.\n",
    "5. Create a cml_list containing the cml ids in a random order\n",
    "6. Pick the first cml id from the list\n",
    "7. Check if ast_processed is True\n",
    "8. If yes, skip the cml\n",
    "9. If no, load this cmls txrx series using netCDF4\n",
    "10. Use the AST to create numpy arrays of the same shape as txrx containing True or False for flags\n",
    "11. Overwrite the anomaly variables for this cml in the netcdf\n",
    "12. Pick the next cml from the list and return to 7."
   ]
  },
  {
   "cell_type": "code",
   "execution_count": 2,
   "metadata": {},
   "outputs": [],
   "source": [
    "in_file = '../data/ast_example_cml_raw.nc'\n",
    "save_file = '../data/ast_example_cml_ast.nc'\n",
    "rado_file = '../data/ast_example_cml_radar.nc'\n",
    "out_file = '../data/ast_example_cml_ast_temp.nc'\n",
    "ds = xr.open_dataset(save_file)\n",
    "ds.to_netcdf(out_file)\n",
    "ds.close()\n",
    "ast, ds, rado = load_data(in_file, out_file, rado_file)\n",
    "cml_id_shuf, ast_proc_shuf = shuffle_data(ast)"
   ]
  },
  {
   "cell_type": "markdown",
   "metadata": {},
   "source": [
    "Time Series Selection Tool:"
   ]
  },
  {
   "cell_type": "code",
   "execution_count": 3,
   "metadata": {},
   "outputs": [
    {
     "data": {
      "application/vnd.jupyter.widget-view+json": {
       "model_id": "b72c6bb5df32489caad4a4df8326af76",
       "version_major": 2,
       "version_minor": 0
      },
      "text/plain": [
       "HBox(children=(VBox(children=(Button(description='next', style=ButtonStyle()), Button(description='previous', …"
      ]
     },
     "metadata": {},
     "output_type": "display_data"
    },
    {
     "data": {
      "application/vnd.jupyter.widget-view+json": {
       "model_id": "73549b33ae1242728c7fdd8e5635b8ac",
       "version_major": 2,
       "version_minor": 0
      },
      "text/plain": [
       "Canvas(toolbar=Toolbar(toolitems=[('Home', 'Reset original view', 'home', 'home'), ('Back', 'Back to previous …"
      ]
     },
     "metadata": {},
     "output_type": "display_data"
    }
   ],
   "source": [
    "%matplotlib widget\n",
    "ast_tool(ds, ast,rado, cml_id_shuf, ast_proc_shuf)"
   ]
  },
  {
   "cell_type": "code",
   "execution_count": 4,
   "metadata": {},
   "outputs": [
    {
     "name": "stdout",
     "output_type": "stream",
     "text": [
      "Number of processed CMLs:  4 / 4\n",
      "percentage of OK:  97.62\n",
      "percentage of periodical_mode:  0.0\n",
      "percentage of flux_above_base:  1.89\n",
      "percentage of flux_below_base:  1.16\n",
      "percentage of step:  0.0\n"
     ]
    }
   ],
   "source": [
    "ast.close()\n",
    "ds_ast_check = xr.open_dataset(out_file).sel(channel_id = 'channel_1').load()\n",
    "n_cmls = len(ds_ast_check.cml_id.values)\n",
    "proc_cmls = ds_ast_check.cml_id.values[~np.isnan(ds_ast_check.ast_processed).values]\n",
    "ds_ast_check = ds_ast_check.sel(cml_id = proc_cmls)\n",
    "print('Number of processed CMLs: ', len(proc_cmls), '/',n_cmls)\n",
    "if len(proc_cmls)>0:\n",
    "    print('percentage of OK: ', np.round(np.sum(ds_ast_check.OK.values)/len(ds_ast_check.OK.values.flatten())*100, decimals=2))\n",
    "    print('percentage of periodical_mode: ', np.round(np.sum(ds_ast_check.periodical_mode.values)/len(ds_ast_check.periodical_mode.values.flatten())*100, decimals=2))\n",
    "    print('percentage of flux_above_base: ', np.round(np.sum(ds_ast_check.flux_above_base.values)/len(ds_ast_check.flux_above_base.values.flatten())*100, decimals=2))\n",
    "    print('percentage of flux_below_base: ', np.round(np.sum(ds_ast_check.flux_below_base.values)/len(ds_ast_check.flux_below_base.values.flatten())*100, decimals=2))\n",
    "    print('percentage of step: ', np.round(np.sum(ds_ast_check.step.values)/len(ds_ast_check.step.values.flatten())*100, decimals=2))\n",
    "ds_ast_check.close()\n",
    "ast, ds, rado = load_data(in_file, out_file, rado_file)\n",
    "cml_id_shuf, ast_proc_shuf = shuffle_data(ast)"
   ]
  },
  {
   "cell_type": "code",
   "execution_count": 5,
   "metadata": {},
   "outputs": [],
   "source": [
    "ds_ast_compare = xr.open_dataset('../data/ast_example_cml_ast_ready.nc').sel(channel_id = 'channel_1').load()\n",
    "ds_ast_user = xr.open_dataset(out_file).sel(channel_id = 'channel_1').load()"
   ]
  },
  {
   "cell_type": "code",
   "execution_count": 8,
   "metadata": {},
   "outputs": [
    {
     "data": {
      "application/vnd.jupyter.widget-view+json": {
       "model_id": "6f360202ad5e4f27889ec140abc2a885",
       "version_major": 2,
       "version_minor": 0
      },
      "text/plain": [
       "Canvas(toolbar=Toolbar(toolitems=[('Home', 'Reset original view', 'home', 'home'), ('Back', 'Back to previous …"
      ]
     },
     "metadata": {},
     "output_type": "display_data"
    }
   ],
   "source": [
    "cml_number = 3\n",
    "fig, ax = plt.subplots(2,1, figsize=(15,8), sharex=True)\n",
    "cml0 = ds_ast_user.isel(cml_id=cml_number-1)\n",
    "txrx = cml0.txrx\n",
    "txrx.plot(ax=ax[0])\n",
    "ax[0].fill_between(cml0.time.values, np.min(txrx), np.max(txrx), where=cml0.OK, alpha=0.1, color='green', label = 'OK')\n",
    "ax[0].fill_between(cml0.time.values, np.min(txrx), np.max(txrx), where=np.any([cml0.periodical_mode, \n",
    "                                                                               cml0.flux_above_base, \n",
    "                                                                               cml0.flux_below_base, \n",
    "                                                                               cml0.step ], axis=0), alpha=0.1, color='red', label = 'anomaly')\n",
    "ax[0].set_title('User flags')\n",
    "cml0 = ds_ast_compare.isel(cml_id=cml_number-1)\n",
    "txrx = cml0.txrx\n",
    "txrx.plot(ax=ax[1])\n",
    "ax[1].fill_between(cml0.time.values, np.min(txrx), np.max(txrx), where=cml0.OK, alpha=0.1, color='green', label = 'OK')\n",
    "ax[1].fill_between(cml0.time.values, np.min(txrx), np.max(txrx), where=np.any([cml0.periodical_mode.values, \n",
    "                                                                               cml0.flux_above_base.values, \n",
    "                                                                               cml0.flux_below_base.values, \n",
    "                                                                               cml0.step.values, ], axis=0), alpha=0.1, color='red', label = 'anomaly')\n",
    "ax[1].set_title('Expert flags')\n",
    "plt.show()"
   ]
  },
  {
   "cell_type": "code",
   "execution_count": 9,
   "metadata": {},
   "outputs": [],
   "source": [
    "ds_ast_compare.close()\n",
    "ds_ast_user.close()"
   ]
  },
  {
   "cell_type": "code",
   "execution_count": 6,
   "metadata": {},
   "outputs": [],
   "source": [
    "# generate a clean ast file to start over\n",
    "ds = xr.open_dataset('../data/ast_example_cml_ast_ready.nc')\n",
    "ds['ast_processed'] = 'cml_id', np.full_like(ds.ast_processed.values, np.nan)\n",
    "ds['periodical_mode'] = ('channel_id', 'cml_id', 'time'), np.full_like(ds.periodical_mode.values, np.nan)\n",
    "ds['flux_above_base'] = ('channel_id', 'cml_id', 'time'), np.full_like(ds.flux_above_base.values, np.nan)\n",
    "ds['flux_below_base'] = ('channel_id', 'cml_id', 'time'), np.full_like(ds.flux_below_base.values, np.nan)\n",
    "ds['step'] = ('channel_id', 'cml_id', 'time'), np.full_like(ds.step.values, np.nan)\n",
    "ds['OK'] = ('channel_id', 'cml_id', 'time'), np.full_like(ds.OK.values, np.nan)\n",
    "ds.to_netcdf('../data/ast_example_cml_ast.nc')"
   ]
  },
  {
   "cell_type": "code",
   "execution_count": null,
   "metadata": {},
   "outputs": [],
   "source": []
  }
 ],
 "metadata": {
  "kernelspec": {
   "display_name": "Python 3",
   "language": "python",
   "name": "python3"
  },
  "language_info": {
   "codemirror_mode": {
    "name": "ipython",
    "version": 3
   },
   "file_extension": ".py",
   "mimetype": "text/x-python",
   "name": "python",
   "nbconvert_exporter": "python",
   "pygments_lexer": "ipython3",
   "version": "3.7.6"
  }
 },
 "nbformat": 4,
 "nbformat_minor": 4
}
